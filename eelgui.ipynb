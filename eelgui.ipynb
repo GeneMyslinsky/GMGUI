{
 "cells": [
  {
   "cell_type": "code",
   "execution_count": null,
   "metadata": {},
   "outputs": [
    {
     "name": "stdout",
     "output_type": "stream",
     "text": [
      "STARTED CHROME\n"
     ]
    }
   ],
   "source": [
    "import eel\n",
    "import time\n",
    "import sys\n",
    "import tkinter as tk\n",
    "from tkinter import filedialog\n",
    "\n",
    "root = tk.Tk()\n",
    "root.withdraw()\n",
    "\n",
    "\n",
    "\n",
    "eel.init('web')\n",
    "\n",
    "myop = {\n",
    "    'mode': \"chrome-app\", #or \"chrome-app\",\n",
    "    'host': 'localhost',\n",
    "    'port': 8081,\n",
    "    'chromeFlags': [\"--window-size=750,600\"]}\n",
    "\n",
    "\n",
    "### EXAMPLE FOR USING A PY FUNC IN JS AND RETURNING TO JS ###\n",
    "@eel.expose\n",
    "def getTime():\n",
    "    return time.strftime('%c')\n",
    "###############################################################\n",
    "\n",
    "### CLOSING THE APP ####################\n",
    "@eel.expose\n",
    "def tkfile():\n",
    "    file_path = filedialog.askopenfilename()\n",
    "    return file_path\n",
    "@eel.expose\n",
    "def closeapp():\n",
    "    print(\"REQUESTED CLOSE FROM JS\")\n",
    "    sys.exit()\n",
    "    \n",
    "\n",
    "def returnjs(n):\n",
    "    print(\"RETURNED:\" + n)\n",
    "    return n\n",
    "\n",
    "@eel.expose\n",
    "def jsprint(arg):\n",
    "    JSreturn = str(arg)\n",
    "    print(\"JS: \" + str(arg))\n",
    "    return JSreturn\n",
    "\n",
    "##########################\n",
    "### writing to table #####\n",
    "def JS_ClearTable():\n",
    "    eel.ClearTable()\n",
    "    \n",
    "def JS_NewRow(d1,d2,d3,jtype):\n",
    "    eel.NewRow(d1,d2,d3,str(time.strftime('%H:%M:%S')),jtype)\n",
    "\n",
    "@eel.expose\n",
    "def JS_testlog():\n",
    "\n",
    "    JS_NewRow(\"1\",\"Blue Label\",\"info\",\"info\")\n",
    "    JS_NewRow(\"2\",\"Yellow Label\",\"warning\",\"warning\")\n",
    "    JS_NewRow(\"3\",\"Red Label\",\"danger\",\"danger\")\n",
    "    JS_NewRow(\"4\",\"Green Label\",\"success\",\"success\")\n",
    "\n",
    "#### CALLBACK FUNCTION ##\n",
    "#### IMPORTANT ##########\n",
    "@eel.expose\n",
    "def CALLBACK(htmlid):\n",
    "    n = eel.FORWARD(htmlid)()\n",
    "    print(\"CALLBACK:\"+htmlid+\" | \"+ n)\n",
    "\n",
    "eel.start('main.html',options = myop, block=False)\n",
    "\n",
    "\n",
    "print(\"STARTED CHROME\")\n",
    "while True:\n",
    "    eel.sleep(1)"
   ]
  },
  {
   "cell_type": "code",
   "execution_count": null,
   "metadata": {},
   "outputs": [],
   "source": []
  }
 ],
 "metadata": {
  "kernelspec": {
   "display_name": "Python 3",
   "language": "python",
   "name": "python3"
  },
  "language_info": {
   "codemirror_mode": {
    "name": "ipython",
    "version": 3
   },
   "file_extension": ".py",
   "mimetype": "text/x-python",
   "name": "python",
   "nbconvert_exporter": "python",
   "pygments_lexer": "ipython3",
   "version": "3.7.2"
  }
 },
 "nbformat": 4,
 "nbformat_minor": 2
}
